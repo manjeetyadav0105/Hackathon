{
  "nbformat": 4,
  "nbformat_minor": 0,
  "metadata": {
    "colab": {
      "name": "Innomatics_Hackthon_on_EDA.ipynb",
      "provenance": [],
      "collapsed_sections": []
    },
    "kernelspec": {
      "name": "python3",
      "display_name": "Python 3"
    },
    "language_info": {
      "name": "python"
    }
  },
  "cells": [
    {
      "cell_type": "markdown",
      "metadata": {
        "id": "0RNpSVouKgha"
      },
      "source": [
        "EDA (Exploratory Data Analysis)\n",
        " We ingested a bunch of dirty data, didn’t clean it up, and you told your company to do something with these results that turn out to be wrong. You’re going to be in a lot of trouble! Incorrect or inconsistent data leads to false conclusions. And so, how well you clean and understand the data has a high impact on the quality of the results.\n",
        "\n",
        " The National Institute of Standards and Technology (NIST) describes EDA as an approach/philosophy for data analysis that employs a variety of techniques to:\n",
        "1. maximize insight into a data set;\n",
        "2. uncover underlying structure;\n",
        "3. extract important variables;\n",
        "4. detect outliers and anomalies;\n",
        "5. test underlying assumptions;\n",
        "6. develop parsimonious models; and\n",
        "7. determine optimal factor settings\n",
        "\n",
        "EDA Process\n",
        "\n",
        "While no two EDA efforts are exactly alike, there are a few basic (and iterative) steps to follow when becoming familiar with a new dataset.\n",
        "1. Explore / Question\n",
        "2. Clean / Verify\n",
        "3. Document / Save"
      ]
    },
    {
      "cell_type": "code",
      "metadata": {
        "id": "2W_svtNpMMtp"
      },
      "source": [
        "import numpy as np\n",
        "import pandas as pd\n",
        "import matplotlib.pyplot as plt\n",
        "import seaborn as sns"
      ],
      "execution_count": 4,
      "outputs": []
    },
    {
      "cell_type": "code",
      "metadata": {
        "id": "O5_W6P0iNKwk"
      },
      "source": [
        "data=pd.read_csv('/content/drive/MyDrive/Colab Notebooks/data (1).csv')"
      ],
      "execution_count": 5,
      "outputs": []
    },
    {
      "cell_type": "code",
      "metadata": {
        "colab": {
          "base_uri": "https://localhost:8080/",
          "height": 380
        },
        "id": "UeeXYlalkItl",
        "outputId": "73ff79e9-d388-4aa6-c8c1-bf44b66ee7ab"
      },
      "source": [
        "data.head(10)"
      ],
      "execution_count": 6,
      "outputs": [
        {
          "output_type": "execute_result",
          "data": {
            "text/html": [
              "<div>\n",
              "<style scoped>\n",
              "    .dataframe tbody tr th:only-of-type {\n",
              "        vertical-align: middle;\n",
              "    }\n",
              "\n",
              "    .dataframe tbody tr th {\n",
              "        vertical-align: top;\n",
              "    }\n",
              "\n",
              "    .dataframe thead th {\n",
              "        text-align: right;\n",
              "    }\n",
              "</style>\n",
              "<table border=\"1\" class=\"dataframe\">\n",
              "  <thead>\n",
              "    <tr style=\"text-align: right;\">\n",
              "      <th></th>\n",
              "      <th>Unnamed: 0</th>\n",
              "      <th>Id</th>\n",
              "      <th>groupId</th>\n",
              "      <th>matchId</th>\n",
              "      <th>assists</th>\n",
              "      <th>boosts</th>\n",
              "      <th>damageDealt</th>\n",
              "      <th>DBNOs</th>\n",
              "      <th>headshotKills</th>\n",
              "      <th>heals</th>\n",
              "      <th>killPlace</th>\n",
              "      <th>killPoints</th>\n",
              "      <th>kills</th>\n",
              "      <th>killStreaks</th>\n",
              "      <th>longestKill</th>\n",
              "      <th>matchDuration</th>\n",
              "      <th>matchType</th>\n",
              "      <th>maxPlace</th>\n",
              "      <th>numGroups</th>\n",
              "      <th>rankPoints</th>\n",
              "      <th>revives</th>\n",
              "      <th>rideDistance</th>\n",
              "      <th>roadKills</th>\n",
              "      <th>swimDistance</th>\n",
              "      <th>teamKills</th>\n",
              "      <th>vehicleDestroys</th>\n",
              "      <th>walkDistance</th>\n",
              "      <th>weaponsAcquired</th>\n",
              "      <th>winPoints</th>\n",
              "      <th>winPlacePerc</th>\n",
              "    </tr>\n",
              "  </thead>\n",
              "  <tbody>\n",
              "    <tr>\n",
              "      <th>0</th>\n",
              "      <td>2093518</td>\n",
              "      <td>a3e3cea9f2e314</td>\n",
              "      <td>c9f6eaa81245b5</td>\n",
              "      <td>a3d8693390584c</td>\n",
              "      <td>0</td>\n",
              "      <td>0</td>\n",
              "      <td>25.93</td>\n",
              "      <td>0</td>\n",
              "      <td>0</td>\n",
              "      <td>0</td>\n",
              "      <td>84</td>\n",
              "      <td>1437</td>\n",
              "      <td>0</td>\n",
              "      <td>0</td>\n",
              "      <td>0.000</td>\n",
              "      <td>1403</td>\n",
              "      <td>squad-fpp</td>\n",
              "      <td>31</td>\n",
              "      <td>29</td>\n",
              "      <td>-1</td>\n",
              "      <td>0</td>\n",
              "      <td>0.0</td>\n",
              "      <td>0</td>\n",
              "      <td>0.0</td>\n",
              "      <td>0</td>\n",
              "      <td>0</td>\n",
              "      <td>151.30</td>\n",
              "      <td>1</td>\n",
              "      <td>1525</td>\n",
              "      <td>0.0667</td>\n",
              "    </tr>\n",
              "    <tr>\n",
              "      <th>1</th>\n",
              "      <td>3701672</td>\n",
              "      <td>43e4be7ad72cc7</td>\n",
              "      <td>521836de101ee8</td>\n",
              "      <td>b65de9055327e0</td>\n",
              "      <td>0</td>\n",
              "      <td>0</td>\n",
              "      <td>36.71</td>\n",
              "      <td>0</td>\n",
              "      <td>0</td>\n",
              "      <td>0</td>\n",
              "      <td>57</td>\n",
              "      <td>1225</td>\n",
              "      <td>0</td>\n",
              "      <td>0</td>\n",
              "      <td>0.000</td>\n",
              "      <td>1971</td>\n",
              "      <td>squad-fpp</td>\n",
              "      <td>30</td>\n",
              "      <td>30</td>\n",
              "      <td>-1</td>\n",
              "      <td>0</td>\n",
              "      <td>0.0</td>\n",
              "      <td>0</td>\n",
              "      <td>0.0</td>\n",
              "      <td>0</td>\n",
              "      <td>0</td>\n",
              "      <td>1918.00</td>\n",
              "      <td>7</td>\n",
              "      <td>1516</td>\n",
              "      <td>0.5862</td>\n",
              "    </tr>\n",
              "    <tr>\n",
              "      <th>2</th>\n",
              "      <td>2059784</td>\n",
              "      <td>9a68690e31fdff</td>\n",
              "      <td>4a72ffa2cebd90</td>\n",
              "      <td>d6aad3f9830e60</td>\n",
              "      <td>0</td>\n",
              "      <td>1</td>\n",
              "      <td>47.73</td>\n",
              "      <td>0</td>\n",
              "      <td>0</td>\n",
              "      <td>0</td>\n",
              "      <td>50</td>\n",
              "      <td>0</td>\n",
              "      <td>0</td>\n",
              "      <td>0</td>\n",
              "      <td>0.000</td>\n",
              "      <td>1741</td>\n",
              "      <td>solo-fpp</td>\n",
              "      <td>96</td>\n",
              "      <td>89</td>\n",
              "      <td>1516</td>\n",
              "      <td>0</td>\n",
              "      <td>4088.0</td>\n",
              "      <td>0</td>\n",
              "      <td>0.0</td>\n",
              "      <td>0</td>\n",
              "      <td>0</td>\n",
              "      <td>820.00</td>\n",
              "      <td>7</td>\n",
              "      <td>0</td>\n",
              "      <td>0.8105</td>\n",
              "    </tr>\n",
              "    <tr>\n",
              "      <th>3</th>\n",
              "      <td>1302036</td>\n",
              "      <td>b147e1bd448fc4</td>\n",
              "      <td>9a8991656b3fea</td>\n",
              "      <td>d931c0932d8aca</td>\n",
              "      <td>0</td>\n",
              "      <td>0</td>\n",
              "      <td>0.00</td>\n",
              "      <td>0</td>\n",
              "      <td>0</td>\n",
              "      <td>0</td>\n",
              "      <td>56</td>\n",
              "      <td>1286</td>\n",
              "      <td>0</td>\n",
              "      <td>0</td>\n",
              "      <td>0.000</td>\n",
              "      <td>1738</td>\n",
              "      <td>squad-fpp</td>\n",
              "      <td>28</td>\n",
              "      <td>27</td>\n",
              "      <td>-1</td>\n",
              "      <td>1</td>\n",
              "      <td>0.0</td>\n",
              "      <td>0</td>\n",
              "      <td>0.0</td>\n",
              "      <td>0</td>\n",
              "      <td>0</td>\n",
              "      <td>38.81</td>\n",
              "      <td>0</td>\n",
              "      <td>1515</td>\n",
              "      <td>0.5556</td>\n",
              "    </tr>\n",
              "    <tr>\n",
              "      <th>4</th>\n",
              "      <td>297180</td>\n",
              "      <td>d818b4edd59612</td>\n",
              "      <td>eece87c8b846b3</td>\n",
              "      <td>ec2b5ed94baae3</td>\n",
              "      <td>0</td>\n",
              "      <td>2</td>\n",
              "      <td>100.00</td>\n",
              "      <td>0</td>\n",
              "      <td>0</td>\n",
              "      <td>3</td>\n",
              "      <td>31</td>\n",
              "      <td>0</td>\n",
              "      <td>1</td>\n",
              "      <td>1</td>\n",
              "      <td>7.737</td>\n",
              "      <td>2193</td>\n",
              "      <td>solo</td>\n",
              "      <td>99</td>\n",
              "      <td>95</td>\n",
              "      <td>1482</td>\n",
              "      <td>0</td>\n",
              "      <td>918.4</td>\n",
              "      <td>0</td>\n",
              "      <td>0.0</td>\n",
              "      <td>0</td>\n",
              "      <td>0</td>\n",
              "      <td>1721.00</td>\n",
              "      <td>5</td>\n",
              "      <td>0</td>\n",
              "      <td>0.6429</td>\n",
              "    </tr>\n",
              "    <tr>\n",
              "      <th>5</th>\n",
              "      <td>2862125</td>\n",
              "      <td>e705cb7a4446ea</td>\n",
              "      <td>9d7180a567d020</td>\n",
              "      <td>b146588581df18</td>\n",
              "      <td>0</td>\n",
              "      <td>0</td>\n",
              "      <td>0.00</td>\n",
              "      <td>0</td>\n",
              "      <td>0</td>\n",
              "      <td>0</td>\n",
              "      <td>59</td>\n",
              "      <td>0</td>\n",
              "      <td>0</td>\n",
              "      <td>0</td>\n",
              "      <td>0.000</td>\n",
              "      <td>1358</td>\n",
              "      <td>solo-fpp</td>\n",
              "      <td>94</td>\n",
              "      <td>90</td>\n",
              "      <td>1503</td>\n",
              "      <td>0</td>\n",
              "      <td>0.0</td>\n",
              "      <td>0</td>\n",
              "      <td>0.0</td>\n",
              "      <td>0</td>\n",
              "      <td>0</td>\n",
              "      <td>446.00</td>\n",
              "      <td>3</td>\n",
              "      <td>0</td>\n",
              "      <td>0.4946</td>\n",
              "    </tr>\n",
              "    <tr>\n",
              "      <th>6</th>\n",
              "      <td>365937</td>\n",
              "      <td>e253262031e08f</td>\n",
              "      <td>e5df2dcdaf3f4b</td>\n",
              "      <td>c1385ae84655e6</td>\n",
              "      <td>0</td>\n",
              "      <td>0</td>\n",
              "      <td>0.00</td>\n",
              "      <td>0</td>\n",
              "      <td>0</td>\n",
              "      <td>0</td>\n",
              "      <td>81</td>\n",
              "      <td>0</td>\n",
              "      <td>0</td>\n",
              "      <td>0</td>\n",
              "      <td>0.000</td>\n",
              "      <td>1497</td>\n",
              "      <td>solo-fpp</td>\n",
              "      <td>99</td>\n",
              "      <td>98</td>\n",
              "      <td>1464</td>\n",
              "      <td>0</td>\n",
              "      <td>0.0</td>\n",
              "      <td>0</td>\n",
              "      <td>0.0</td>\n",
              "      <td>0</td>\n",
              "      <td>0</td>\n",
              "      <td>45.86</td>\n",
              "      <td>1</td>\n",
              "      <td>0</td>\n",
              "      <td>0.1939</td>\n",
              "    </tr>\n",
              "    <tr>\n",
              "      <th>7</th>\n",
              "      <td>3651102</td>\n",
              "      <td>c264a5ce0d4ca1</td>\n",
              "      <td>0efbbf391d7f62</td>\n",
              "      <td>b280791eb7a3fd</td>\n",
              "      <td>0</td>\n",
              "      <td>8</td>\n",
              "      <td>170.20</td>\n",
              "      <td>0</td>\n",
              "      <td>0</td>\n",
              "      <td>1</td>\n",
              "      <td>25</td>\n",
              "      <td>0</td>\n",
              "      <td>1</td>\n",
              "      <td>1</td>\n",
              "      <td>32.960</td>\n",
              "      <td>1968</td>\n",
              "      <td>solo-fpp</td>\n",
              "      <td>97</td>\n",
              "      <td>94</td>\n",
              "      <td>1544</td>\n",
              "      <td>0</td>\n",
              "      <td>0.0</td>\n",
              "      <td>0</td>\n",
              "      <td>221.0</td>\n",
              "      <td>0</td>\n",
              "      <td>0</td>\n",
              "      <td>3297.00</td>\n",
              "      <td>5</td>\n",
              "      <td>0</td>\n",
              "      <td>0.9688</td>\n",
              "    </tr>\n",
              "    <tr>\n",
              "      <th>8</th>\n",
              "      <td>2363197</td>\n",
              "      <td>342437cd2b5680</td>\n",
              "      <td>7acbacbed1b711</td>\n",
              "      <td>99cbf12f555f61</td>\n",
              "      <td>0</td>\n",
              "      <td>2</td>\n",
              "      <td>338.70</td>\n",
              "      <td>2</td>\n",
              "      <td>0</td>\n",
              "      <td>15</td>\n",
              "      <td>6</td>\n",
              "      <td>0</td>\n",
              "      <td>4</td>\n",
              "      <td>2</td>\n",
              "      <td>14.230</td>\n",
              "      <td>1989</td>\n",
              "      <td>duo</td>\n",
              "      <td>47</td>\n",
              "      <td>45</td>\n",
              "      <td>1492</td>\n",
              "      <td>1</td>\n",
              "      <td>3349.0</td>\n",
              "      <td>0</td>\n",
              "      <td>0.0</td>\n",
              "      <td>0</td>\n",
              "      <td>0</td>\n",
              "      <td>1846.00</td>\n",
              "      <td>5</td>\n",
              "      <td>0</td>\n",
              "      <td>0.7174</td>\n",
              "    </tr>\n",
              "    <tr>\n",
              "      <th>9</th>\n",
              "      <td>271498</td>\n",
              "      <td>3cf3cc81325a37</td>\n",
              "      <td>537c4bd393dcff</td>\n",
              "      <td>38a8b94623d77d</td>\n",
              "      <td>2</td>\n",
              "      <td>1</td>\n",
              "      <td>230.80</td>\n",
              "      <td>2</td>\n",
              "      <td>0</td>\n",
              "      <td>1</td>\n",
              "      <td>8</td>\n",
              "      <td>0</td>\n",
              "      <td>3</td>\n",
              "      <td>2</td>\n",
              "      <td>174.500</td>\n",
              "      <td>1373</td>\n",
              "      <td>squad-fpp</td>\n",
              "      <td>32</td>\n",
              "      <td>30</td>\n",
              "      <td>1449</td>\n",
              "      <td>0</td>\n",
              "      <td>0.0</td>\n",
              "      <td>0</td>\n",
              "      <td>0.0</td>\n",
              "      <td>0</td>\n",
              "      <td>0</td>\n",
              "      <td>3781.00</td>\n",
              "      <td>5</td>\n",
              "      <td>0</td>\n",
              "      <td>0.8387</td>\n",
              "    </tr>\n",
              "  </tbody>\n",
              "</table>\n",
              "</div>"
            ],
            "text/plain": [
              "   Unnamed: 0              Id  ... winPoints winPlacePerc\n",
              "0     2093518  a3e3cea9f2e314  ...      1525       0.0667\n",
              "1     3701672  43e4be7ad72cc7  ...      1516       0.5862\n",
              "2     2059784  9a68690e31fdff  ...         0       0.8105\n",
              "3     1302036  b147e1bd448fc4  ...      1515       0.5556\n",
              "4      297180  d818b4edd59612  ...         0       0.6429\n",
              "5     2862125  e705cb7a4446ea  ...         0       0.4946\n",
              "6      365937  e253262031e08f  ...         0       0.1939\n",
              "7     3651102  c264a5ce0d4ca1  ...         0       0.9688\n",
              "8     2363197  342437cd2b5680  ...         0       0.7174\n",
              "9      271498  3cf3cc81325a37  ...         0       0.8387\n",
              "\n",
              "[10 rows x 30 columns]"
            ]
          },
          "metadata": {
            "tags": []
          },
          "execution_count": 6
        }
      ]
    },
    {
      "cell_type": "code",
      "metadata": {
        "colab": {
          "base_uri": "https://localhost:8080/"
        },
        "id": "z7Pb6v9_cly6",
        "outputId": "4ea86e8d-f22c-4d5f-a687-d2ee9663911c"
      },
      "source": [
        "data.shape"
      ],
      "execution_count": 7,
      "outputs": [
        {
          "output_type": "execute_result",
          "data": {
            "text/plain": [
              "(1111742, 30)"
            ]
          },
          "metadata": {
            "tags": []
          },
          "execution_count": 7
        }
      ]
    },
    {
      "cell_type": "code",
      "metadata": {
        "colab": {
          "base_uri": "https://localhost:8080/",
          "height": 304
        },
        "id": "gn8SvlQ6d2qT",
        "outputId": "e8464332-4df8-4531-b1ff-f49b181ecf15"
      },
      "source": [
        "data.describe()"
      ],
      "execution_count": 77,
      "outputs": [
        {
          "output_type": "execute_result",
          "data": {
            "text/html": [
              "<div>\n",
              "<style scoped>\n",
              "    .dataframe tbody tr th:only-of-type {\n",
              "        vertical-align: middle;\n",
              "    }\n",
              "\n",
              "    .dataframe tbody tr th {\n",
              "        vertical-align: top;\n",
              "    }\n",
              "\n",
              "    .dataframe thead th {\n",
              "        text-align: right;\n",
              "    }\n",
              "</style>\n",
              "<table border=\"1\" class=\"dataframe\">\n",
              "  <thead>\n",
              "    <tr style=\"text-align: right;\">\n",
              "      <th></th>\n",
              "      <th>Unnamed: 0</th>\n",
              "      <th>assists</th>\n",
              "      <th>boosts</th>\n",
              "      <th>damageDealt</th>\n",
              "      <th>DBNOs</th>\n",
              "      <th>headshotKills</th>\n",
              "      <th>heals</th>\n",
              "      <th>killPlace</th>\n",
              "      <th>killPoints</th>\n",
              "      <th>kills</th>\n",
              "      <th>killStreaks</th>\n",
              "      <th>longestKill</th>\n",
              "      <th>matchDuration</th>\n",
              "      <th>maxPlace</th>\n",
              "      <th>numGroups</th>\n",
              "      <th>rankPoints</th>\n",
              "      <th>revives</th>\n",
              "      <th>rideDistance</th>\n",
              "      <th>roadKills</th>\n",
              "      <th>swimDistance</th>\n",
              "      <th>teamKills</th>\n",
              "      <th>vehicleDestroys</th>\n",
              "      <th>walkDistance</th>\n",
              "      <th>weaponsAcquired</th>\n",
              "      <th>winPoints</th>\n",
              "      <th>winPlacePerc</th>\n",
              "    </tr>\n",
              "  </thead>\n",
              "  <tbody>\n",
              "    <tr>\n",
              "      <th>count</th>\n",
              "      <td>1.111742e+06</td>\n",
              "      <td>1.111742e+06</td>\n",
              "      <td>1.111742e+06</td>\n",
              "      <td>1.111742e+06</td>\n",
              "      <td>1.111742e+06</td>\n",
              "      <td>1.111742e+06</td>\n",
              "      <td>1.111742e+06</td>\n",
              "      <td>1.111742e+06</td>\n",
              "      <td>1.111742e+06</td>\n",
              "      <td>1.111742e+06</td>\n",
              "      <td>1.111742e+06</td>\n",
              "      <td>1.111742e+06</td>\n",
              "      <td>1.111742e+06</td>\n",
              "      <td>1.111742e+06</td>\n",
              "      <td>1.111742e+06</td>\n",
              "      <td>1.111742e+06</td>\n",
              "      <td>1.111742e+06</td>\n",
              "      <td>1.111742e+06</td>\n",
              "      <td>1.111742e+06</td>\n",
              "      <td>1.111742e+06</td>\n",
              "      <td>1.111742e+06</td>\n",
              "      <td>1.111742e+06</td>\n",
              "      <td>1.111742e+06</td>\n",
              "      <td>1.111742e+06</td>\n",
              "      <td>1.111742e+06</td>\n",
              "      <td>1.111741e+06</td>\n",
              "    </tr>\n",
              "    <tr>\n",
              "      <th>mean</th>\n",
              "      <td>2.224362e+06</td>\n",
              "      <td>2.336738e-01</td>\n",
              "      <td>1.106655e+00</td>\n",
              "      <td>1.307364e+02</td>\n",
              "      <td>6.573612e-01</td>\n",
              "      <td>2.266488e-01</td>\n",
              "      <td>1.370348e+00</td>\n",
              "      <td>4.759562e+01</td>\n",
              "      <td>5.044301e+02</td>\n",
              "      <td>9.255097e-01</td>\n",
              "      <td>5.448503e-01</td>\n",
              "      <td>2.299814e+01</td>\n",
              "      <td>1.579348e+03</td>\n",
              "      <td>4.450584e+01</td>\n",
              "      <td>4.300693e+01</td>\n",
              "      <td>8.927902e+02</td>\n",
              "      <td>1.641784e-01</td>\n",
              "      <td>6.042142e+02</td>\n",
              "      <td>3.551184e-03</td>\n",
              "      <td>4.545068e+00</td>\n",
              "      <td>2.401097e-02</td>\n",
              "      <td>7.833652e-03</td>\n",
              "      <td>1.153282e+03</td>\n",
              "      <td>3.659685e+00</td>\n",
              "      <td>6.057065e+02</td>\n",
              "      <td>4.727868e-01</td>\n",
              "    </tr>\n",
              "    <tr>\n",
              "      <th>std</th>\n",
              "      <td>1.283879e+06</td>\n",
              "      <td>5.894028e-01</td>\n",
              "      <td>1.716050e+00</td>\n",
              "      <td>1.711755e+02</td>\n",
              "      <td>1.146023e+00</td>\n",
              "      <td>6.033356e-01</td>\n",
              "      <td>2.683819e+00</td>\n",
              "      <td>2.747025e+01</td>\n",
              "      <td>6.274006e+02</td>\n",
              "      <td>1.562216e+00</td>\n",
              "      <td>7.129032e-01</td>\n",
              "      <td>5.106977e+01</td>\n",
              "      <td>2.589348e+02</td>\n",
              "      <td>2.381989e+01</td>\n",
              "      <td>2.327841e+01</td>\n",
              "      <td>7.366443e+02</td>\n",
              "      <td>4.704189e-01</td>\n",
              "      <td>1.495949e+03</td>\n",
              "      <td>7.385452e-02</td>\n",
              "      <td>3.061857e+01</td>\n",
              "      <td>1.678909e-01</td>\n",
              "      <td>9.194621e-02</td>\n",
              "      <td>1.182788e+03</td>\n",
              "      <td>2.461805e+00</td>\n",
              "      <td>7.395140e+02</td>\n",
              "      <td>3.073771e-01</td>\n",
              "    </tr>\n",
              "    <tr>\n",
              "      <th>min</th>\n",
              "      <td>6.000000e+00</td>\n",
              "      <td>0.000000e+00</td>\n",
              "      <td>0.000000e+00</td>\n",
              "      <td>0.000000e+00</td>\n",
              "      <td>0.000000e+00</td>\n",
              "      <td>0.000000e+00</td>\n",
              "      <td>0.000000e+00</td>\n",
              "      <td>1.000000e+00</td>\n",
              "      <td>0.000000e+00</td>\n",
              "      <td>0.000000e+00</td>\n",
              "      <td>0.000000e+00</td>\n",
              "      <td>0.000000e+00</td>\n",
              "      <td>9.000000e+00</td>\n",
              "      <td>1.000000e+00</td>\n",
              "      <td>1.000000e+00</td>\n",
              "      <td>-1.000000e+00</td>\n",
              "      <td>0.000000e+00</td>\n",
              "      <td>0.000000e+00</td>\n",
              "      <td>0.000000e+00</td>\n",
              "      <td>0.000000e+00</td>\n",
              "      <td>0.000000e+00</td>\n",
              "      <td>0.000000e+00</td>\n",
              "      <td>0.000000e+00</td>\n",
              "      <td>0.000000e+00</td>\n",
              "      <td>0.000000e+00</td>\n",
              "      <td>0.000000e+00</td>\n",
              "    </tr>\n",
              "    <tr>\n",
              "      <th>25%</th>\n",
              "      <td>1.112440e+06</td>\n",
              "      <td>0.000000e+00</td>\n",
              "      <td>0.000000e+00</td>\n",
              "      <td>0.000000e+00</td>\n",
              "      <td>0.000000e+00</td>\n",
              "      <td>0.000000e+00</td>\n",
              "      <td>0.000000e+00</td>\n",
              "      <td>2.400000e+01</td>\n",
              "      <td>0.000000e+00</td>\n",
              "      <td>0.000000e+00</td>\n",
              "      <td>0.000000e+00</td>\n",
              "      <td>0.000000e+00</td>\n",
              "      <td>1.367000e+03</td>\n",
              "      <td>2.800000e+01</td>\n",
              "      <td>2.700000e+01</td>\n",
              "      <td>-1.000000e+00</td>\n",
              "      <td>0.000000e+00</td>\n",
              "      <td>0.000000e+00</td>\n",
              "      <td>0.000000e+00</td>\n",
              "      <td>0.000000e+00</td>\n",
              "      <td>0.000000e+00</td>\n",
              "      <td>0.000000e+00</td>\n",
              "      <td>1.552000e+02</td>\n",
              "      <td>2.000000e+00</td>\n",
              "      <td>0.000000e+00</td>\n",
              "      <td>2.000000e-01</td>\n",
              "    </tr>\n",
              "    <tr>\n",
              "      <th>50%</th>\n",
              "      <td>2.223772e+06</td>\n",
              "      <td>0.000000e+00</td>\n",
              "      <td>0.000000e+00</td>\n",
              "      <td>8.411000e+01</td>\n",
              "      <td>0.000000e+00</td>\n",
              "      <td>0.000000e+00</td>\n",
              "      <td>0.000000e+00</td>\n",
              "      <td>4.700000e+01</td>\n",
              "      <td>0.000000e+00</td>\n",
              "      <td>0.000000e+00</td>\n",
              "      <td>0.000000e+00</td>\n",
              "      <td>0.000000e+00</td>\n",
              "      <td>1.438000e+03</td>\n",
              "      <td>3.000000e+01</td>\n",
              "      <td>3.000000e+01</td>\n",
              "      <td>1.444000e+03</td>\n",
              "      <td>0.000000e+00</td>\n",
              "      <td>0.000000e+00</td>\n",
              "      <td>0.000000e+00</td>\n",
              "      <td>0.000000e+00</td>\n",
              "      <td>0.000000e+00</td>\n",
              "      <td>0.000000e+00</td>\n",
              "      <td>6.841000e+02</td>\n",
              "      <td>3.000000e+00</td>\n",
              "      <td>0.000000e+00</td>\n",
              "      <td>4.583000e-01</td>\n",
              "    </tr>\n",
              "    <tr>\n",
              "      <th>75%</th>\n",
              "      <td>3.337954e+06</td>\n",
              "      <td>0.000000e+00</td>\n",
              "      <td>2.000000e+00</td>\n",
              "      <td>1.859000e+02</td>\n",
              "      <td>1.000000e+00</td>\n",
              "      <td>0.000000e+00</td>\n",
              "      <td>2.000000e+00</td>\n",
              "      <td>7.100000e+01</td>\n",
              "      <td>1.171000e+03</td>\n",
              "      <td>1.000000e+00</td>\n",
              "      <td>1.000000e+00</td>\n",
              "      <td>2.133000e+01</td>\n",
              "      <td>1.851000e+03</td>\n",
              "      <td>4.900000e+01</td>\n",
              "      <td>4.700000e+01</td>\n",
              "      <td>1.500000e+03</td>\n",
              "      <td>0.000000e+00</td>\n",
              "      <td>7.927500e-02</td>\n",
              "      <td>0.000000e+00</td>\n",
              "      <td>0.000000e+00</td>\n",
              "      <td>0.000000e+00</td>\n",
              "      <td>0.000000e+00</td>\n",
              "      <td>1.975000e+03</td>\n",
              "      <td>5.000000e+00</td>\n",
              "      <td>1.495000e+03</td>\n",
              "      <td>7.407000e-01</td>\n",
              "    </tr>\n",
              "    <tr>\n",
              "      <th>max</th>\n",
              "      <td>4.446964e+06</td>\n",
              "      <td>1.700000e+01</td>\n",
              "      <td>2.400000e+01</td>\n",
              "      <td>5.990000e+03</td>\n",
              "      <td>3.500000e+01</td>\n",
              "      <td>6.400000e+01</td>\n",
              "      <td>7.300000e+01</td>\n",
              "      <td>1.000000e+02</td>\n",
              "      <td>2.170000e+03</td>\n",
              "      <td>7.200000e+01</td>\n",
              "      <td>2.000000e+01</td>\n",
              "      <td>1.040000e+03</td>\n",
              "      <td>2.237000e+03</td>\n",
              "      <td>1.000000e+02</td>\n",
              "      <td>1.000000e+02</td>\n",
              "      <td>5.910000e+03</td>\n",
              "      <td>2.300000e+01</td>\n",
              "      <td>3.540000e+04</td>\n",
              "      <td>1.400000e+01</td>\n",
              "      <td>2.668000e+03</td>\n",
              "      <td>1.000000e+01</td>\n",
              "      <td>5.000000e+00</td>\n",
              "      <td>1.396000e+04</td>\n",
              "      <td>1.770000e+02</td>\n",
              "      <td>2.002000e+03</td>\n",
              "      <td>1.000000e+00</td>\n",
              "    </tr>\n",
              "  </tbody>\n",
              "</table>\n",
              "</div>"
            ],
            "text/plain": [
              "         Unnamed: 0       assists  ...     winPoints  winPlacePerc\n",
              "count  1.111742e+06  1.111742e+06  ...  1.111742e+06  1.111741e+06\n",
              "mean   2.224362e+06  2.336738e-01  ...  6.057065e+02  4.727868e-01\n",
              "std    1.283879e+06  5.894028e-01  ...  7.395140e+02  3.073771e-01\n",
              "min    6.000000e+00  0.000000e+00  ...  0.000000e+00  0.000000e+00\n",
              "25%    1.112440e+06  0.000000e+00  ...  0.000000e+00  2.000000e-01\n",
              "50%    2.223772e+06  0.000000e+00  ...  0.000000e+00  4.583000e-01\n",
              "75%    3.337954e+06  0.000000e+00  ...  1.495000e+03  7.407000e-01\n",
              "max    4.446964e+06  1.700000e+01  ...  2.002000e+03  1.000000e+00\n",
              "\n",
              "[8 rows x 26 columns]"
            ]
          },
          "metadata": {
            "tags": []
          },
          "execution_count": 77
        }
      ]
    },
    {
      "cell_type": "code",
      "metadata": {
        "colab": {
          "base_uri": "https://localhost:8080/"
        },
        "id": "Klf0zDgocu2P",
        "outputId": "4c951e22-3ee3-452f-9c3e-a182c4931f11"
      },
      "source": [
        "data.dtypes"
      ],
      "execution_count": 78,
      "outputs": [
        {
          "output_type": "execute_result",
          "data": {
            "text/plain": [
              "Unnamed: 0           int64\n",
              "Id                  object\n",
              "groupId             object\n",
              "matchId             object\n",
              "assists              int64\n",
              "boosts               int64\n",
              "damageDealt        float64\n",
              "DBNOs                int64\n",
              "headshotKills        int64\n",
              "heals                int64\n",
              "killPlace            int64\n",
              "killPoints           int64\n",
              "kills                int64\n",
              "killStreaks          int64\n",
              "longestKill        float64\n",
              "matchDuration        int64\n",
              "matchType           object\n",
              "maxPlace             int64\n",
              "numGroups            int64\n",
              "rankPoints           int64\n",
              "revives              int64\n",
              "rideDistance       float64\n",
              "roadKills            int64\n",
              "swimDistance       float64\n",
              "teamKills            int64\n",
              "vehicleDestroys      int64\n",
              "walkDistance       float64\n",
              "weaponsAcquired      int64\n",
              "winPoints            int64\n",
              "winPlacePerc       float64\n",
              "dtype: object"
            ]
          },
          "metadata": {
            "tags": []
          },
          "execution_count": 78
        }
      ]
    },
    {
      "cell_type": "code",
      "metadata": {
        "colab": {
          "base_uri": "https://localhost:8080/"
        },
        "id": "caOIGJ5Bc11P",
        "outputId": "f138c4d3-4b55-4462-8801-20b8438174c1"
      },
      "source": [
        "data.info()"
      ],
      "execution_count": 79,
      "outputs": [
        {
          "output_type": "stream",
          "text": [
            "<class 'pandas.core.frame.DataFrame'>\n",
            "RangeIndex: 1111742 entries, 0 to 1111741\n",
            "Data columns (total 30 columns):\n",
            " #   Column           Non-Null Count    Dtype  \n",
            "---  ------           --------------    -----  \n",
            " 0   Unnamed: 0       1111742 non-null  int64  \n",
            " 1   Id               1111742 non-null  object \n",
            " 2   groupId          1111742 non-null  object \n",
            " 3   matchId          1111742 non-null  object \n",
            " 4   assists          1111742 non-null  int64  \n",
            " 5   boosts           1111742 non-null  int64  \n",
            " 6   damageDealt      1111742 non-null  float64\n",
            " 7   DBNOs            1111742 non-null  int64  \n",
            " 8   headshotKills    1111742 non-null  int64  \n",
            " 9   heals            1111742 non-null  int64  \n",
            " 10  killPlace        1111742 non-null  int64  \n",
            " 11  killPoints       1111742 non-null  int64  \n",
            " 12  kills            1111742 non-null  int64  \n",
            " 13  killStreaks      1111742 non-null  int64  \n",
            " 14  longestKill      1111742 non-null  float64\n",
            " 15  matchDuration    1111742 non-null  int64  \n",
            " 16  matchType        1111742 non-null  object \n",
            " 17  maxPlace         1111742 non-null  int64  \n",
            " 18  numGroups        1111742 non-null  int64  \n",
            " 19  rankPoints       1111742 non-null  int64  \n",
            " 20  revives          1111742 non-null  int64  \n",
            " 21  rideDistance     1111742 non-null  float64\n",
            " 22  roadKills        1111742 non-null  int64  \n",
            " 23  swimDistance     1111742 non-null  float64\n",
            " 24  teamKills        1111742 non-null  int64  \n",
            " 25  vehicleDestroys  1111742 non-null  int64  \n",
            " 26  walkDistance     1111742 non-null  float64\n",
            " 27  weaponsAcquired  1111742 non-null  int64  \n",
            " 28  winPoints        1111742 non-null  int64  \n",
            " 29  winPlacePerc     1111741 non-null  float64\n",
            "dtypes: float64(6), int64(20), object(4)\n",
            "memory usage: 254.5+ MB\n"
          ],
          "name": "stdout"
        }
      ]
    },
    {
      "cell_type": "markdown",
      "metadata": {
        "id": "YcRDbcURdCZ9"
      },
      "source": [
        "**Checking** **the** **Missing** **Value**"
      ]
    },
    {
      "cell_type": "code",
      "metadata": {
        "colab": {
          "base_uri": "https://localhost:8080/"
        },
        "id": "T0K_SCSTdcJi",
        "outputId": "2eda3a1a-e111-4589-976a-f419b3daece3"
      },
      "source": [
        "data.isnull().sum()"
      ],
      "execution_count": 80,
      "outputs": [
        {
          "output_type": "execute_result",
          "data": {
            "text/plain": [
              "Unnamed: 0         0\n",
              "Id                 0\n",
              "groupId            0\n",
              "matchId            0\n",
              "assists            0\n",
              "boosts             0\n",
              "damageDealt        0\n",
              "DBNOs              0\n",
              "headshotKills      0\n",
              "heals              0\n",
              "killPlace          0\n",
              "killPoints         0\n",
              "kills              0\n",
              "killStreaks        0\n",
              "longestKill        0\n",
              "matchDuration      0\n",
              "matchType          0\n",
              "maxPlace           0\n",
              "numGroups          0\n",
              "rankPoints         0\n",
              "revives            0\n",
              "rideDistance       0\n",
              "roadKills          0\n",
              "swimDistance       0\n",
              "teamKills          0\n",
              "vehicleDestroys    0\n",
              "walkDistance       0\n",
              "weaponsAcquired    0\n",
              "winPoints          0\n",
              "winPlacePerc       1\n",
              "dtype: int64"
            ]
          },
          "metadata": {
            "tags": []
          },
          "execution_count": 80
        }
      ]
    },
    {
      "cell_type": "markdown",
      "metadata": {
        "id": "2NoubdWYqTPH"
      },
      "source": [
        "We store data into df"
      ]
    },
    {
      "cell_type": "code",
      "metadata": {
        "id": "2TRZCzgfnOno"
      },
      "source": [
        "df=data"
      ],
      "execution_count": 81,
      "outputs": []
    },
    {
      "cell_type": "markdown",
      "metadata": {
        "id": "1fjCsAG6qZot"
      },
      "source": [
        "Now we calculate the mean of [' winPlacePerc '] "
      ]
    },
    {
      "cell_type": "code",
      "metadata": {
        "colab": {
          "base_uri": "https://localhost:8080/"
        },
        "id": "mVPbzkC6nSfb",
        "outputId": "b4609394-4599-42d9-e71b-3a629e42ba14"
      },
      "source": [
        "df['winPlacePerc'].mean()"
      ],
      "execution_count": 85,
      "outputs": [
        {
          "output_type": "execute_result",
          "data": {
            "text/plain": [
              "0.47278682372965924"
            ]
          },
          "metadata": {
            "tags": []
          },
          "execution_count": 85
        }
      ]
    },
    {
      "cell_type": "markdown",
      "metadata": {
        "id": "Ih4tYFUsqo2a"
      },
      "source": [
        "After that we can fill the null value with the mean of that column"
      ]
    },
    {
      "cell_type": "code",
      "metadata": {
        "id": "3gxdwj5EpwZE"
      },
      "source": [
        "df1=df.fillna(0.4727)"
      ],
      "execution_count": 86,
      "outputs": []
    },
    {
      "cell_type": "markdown",
      "metadata": {
        "id": "jYNGhp_2fY3S"
      },
      "source": [
        "Lets we have to check null value is filled or not"
      ]
    },
    {
      "cell_type": "code",
      "metadata": {
        "colab": {
          "base_uri": "https://localhost:8080/"
        },
        "id": "FjvIvDJfp_Sj",
        "outputId": "7980e974-0c14-4610-c894-0e7dea5f1a74"
      },
      "source": [
        "df1.isnull().sum()"
      ],
      "execution_count": 88,
      "outputs": [
        {
          "output_type": "execute_result",
          "data": {
            "text/plain": [
              "Unnamed: 0         0\n",
              "Id                 0\n",
              "groupId            0\n",
              "matchId            0\n",
              "assists            0\n",
              "boosts             0\n",
              "damageDealt        0\n",
              "DBNOs              0\n",
              "headshotKills      0\n",
              "heals              0\n",
              "killPlace          0\n",
              "killPoints         0\n",
              "kills              0\n",
              "killStreaks        0\n",
              "longestKill        0\n",
              "matchDuration      0\n",
              "matchType          0\n",
              "maxPlace           0\n",
              "numGroups          0\n",
              "rankPoints         0\n",
              "revives            0\n",
              "rideDistance       0\n",
              "roadKills          0\n",
              "swimDistance       0\n",
              "teamKills          0\n",
              "vehicleDestroys    0\n",
              "walkDistance       0\n",
              "weaponsAcquired    0\n",
              "winPoints          0\n",
              "winPlacePerc       0\n",
              "dtype: int64"
            ]
          },
          "metadata": {
            "tags": []
          },
          "execution_count": 88
        }
      ]
    },
    {
      "cell_type": "markdown",
      "metadata": {
        "id": "Bwt1vx_fft9U"
      },
      "source": [
        "So here we can see that null value is removed from the column ' winplaceperc '"
      ]
    },
    {
      "cell_type": "markdown",
      "metadata": {
        "id": "sHNN76YOgd9w"
      },
      "source": [
        "**Now** **we** **have** **to** **perform** **EDA**"
      ]
    },
    {
      "cell_type": "code",
      "metadata": {
        "colab": {
          "base_uri": "https://localhost:8080/"
        },
        "id": "2pi06HiXhZzC",
        "outputId": "2a58327d-854d-4739-eada-8e7ddfabe936"
      },
      "source": [
        "no_matches = df1['matchId'].nunique()\n",
        "print(\"There are {} matches registered in our database.\".format(no_matches))"
      ],
      "execution_count": 89,
      "outputs": [
        {
          "output_type": "stream",
          "text": [
            "There are 47951 matches registered in our database.\n"
          ],
          "name": "stdout"
        }
      ]
    },
    {
      "cell_type": "code",
      "metadata": {
        "colab": {
          "base_uri": "https://localhost:8080/",
          "height": 521
        },
        "id": "6_Fzq2e-hhLZ",
        "outputId": "5cab6fa9-cd05-409a-ce4f-ff0e000a179f"
      },
      "source": [
        "m_types = df1.loc[:,\"matchType\"].value_counts().to_frame().reset_index()\n",
        "m_types.columns = [\"Type\",\"Count\"]\n",
        "m_types"
      ],
      "execution_count": 90,
      "outputs": [
        {
          "output_type": "execute_result",
          "data": {
            "text/html": [
              "<div>\n",
              "<style scoped>\n",
              "    .dataframe tbody tr th:only-of-type {\n",
              "        vertical-align: middle;\n",
              "    }\n",
              "\n",
              "    .dataframe tbody tr th {\n",
              "        vertical-align: top;\n",
              "    }\n",
              "\n",
              "    .dataframe thead th {\n",
              "        text-align: right;\n",
              "    }\n",
              "</style>\n",
              "<table border=\"1\" class=\"dataframe\">\n",
              "  <thead>\n",
              "    <tr style=\"text-align: right;\">\n",
              "      <th></th>\n",
              "      <th>Type</th>\n",
              "      <th>Count</th>\n",
              "    </tr>\n",
              "  </thead>\n",
              "  <tbody>\n",
              "    <tr>\n",
              "      <th>0</th>\n",
              "      <td>squad-fpp</td>\n",
              "      <td>438781</td>\n",
              "    </tr>\n",
              "    <tr>\n",
              "      <th>1</th>\n",
              "      <td>duo-fpp</td>\n",
              "      <td>249927</td>\n",
              "    </tr>\n",
              "    <tr>\n",
              "      <th>2</th>\n",
              "      <td>squad</td>\n",
              "      <td>156573</td>\n",
              "    </tr>\n",
              "    <tr>\n",
              "      <th>3</th>\n",
              "      <td>solo-fpp</td>\n",
              "      <td>133854</td>\n",
              "    </tr>\n",
              "    <tr>\n",
              "      <th>4</th>\n",
              "      <td>duo</td>\n",
              "      <td>78039</td>\n",
              "    </tr>\n",
              "    <tr>\n",
              "      <th>5</th>\n",
              "      <td>solo</td>\n",
              "      <td>45679</td>\n",
              "    </tr>\n",
              "    <tr>\n",
              "      <th>6</th>\n",
              "      <td>normal-squad-fpp</td>\n",
              "      <td>4286</td>\n",
              "    </tr>\n",
              "    <tr>\n",
              "      <th>7</th>\n",
              "      <td>crashfpp</td>\n",
              "      <td>1581</td>\n",
              "    </tr>\n",
              "    <tr>\n",
              "      <th>8</th>\n",
              "      <td>normal-duo-fpp</td>\n",
              "      <td>1400</td>\n",
              "    </tr>\n",
              "    <tr>\n",
              "      <th>9</th>\n",
              "      <td>flaretpp</td>\n",
              "      <td>633</td>\n",
              "    </tr>\n",
              "    <tr>\n",
              "      <th>10</th>\n",
              "      <td>normal-solo-fpp</td>\n",
              "      <td>465</td>\n",
              "    </tr>\n",
              "    <tr>\n",
              "      <th>11</th>\n",
              "      <td>flarefpp</td>\n",
              "      <td>180</td>\n",
              "    </tr>\n",
              "    <tr>\n",
              "      <th>12</th>\n",
              "      <td>normal-squad</td>\n",
              "      <td>135</td>\n",
              "    </tr>\n",
              "    <tr>\n",
              "      <th>13</th>\n",
              "      <td>crashtpp</td>\n",
              "      <td>86</td>\n",
              "    </tr>\n",
              "    <tr>\n",
              "      <th>14</th>\n",
              "      <td>normal-solo</td>\n",
              "      <td>75</td>\n",
              "    </tr>\n",
              "    <tr>\n",
              "      <th>15</th>\n",
              "      <td>normal-duo</td>\n",
              "      <td>48</td>\n",
              "    </tr>\n",
              "  </tbody>\n",
              "</table>\n",
              "</div>"
            ],
            "text/plain": [
              "                Type   Count\n",
              "0          squad-fpp  438781\n",
              "1            duo-fpp  249927\n",
              "2              squad  156573\n",
              "3           solo-fpp  133854\n",
              "4                duo   78039\n",
              "5               solo   45679\n",
              "6   normal-squad-fpp    4286\n",
              "7           crashfpp    1581\n",
              "8     normal-duo-fpp    1400\n",
              "9           flaretpp     633\n",
              "10   normal-solo-fpp     465\n",
              "11          flarefpp     180\n",
              "12      normal-squad     135\n",
              "13          crashtpp      86\n",
              "14       normal-solo      75\n",
              "15        normal-duo      48"
            ]
          },
          "metadata": {
            "tags": []
          },
          "execution_count": 90
        }
      ]
    },
    {
      "cell_type": "markdown",
      "metadata": {
        "id": "BWOm-svMrcpD"
      },
      "source": [
        "In PUBG there are essentially three main modes of game: Solo, Duo and Squad.\n",
        "\n",
        "In a squad mode, you play in a group of 4 players. Here we can see that the match types are further broken down taking into account view modes:\n",
        "\n",
        "FPP - First Person Perspective\n",
        "\n",
        "*   FPP - First Person Perspective\n",
        "*   TPP - Thirst Peron Perspective\n",
        "*   Normal - you can switch between views during a game However, I am not able to identify what flare- and crash- types of matches are.\n",
        "\n",
        "\n",
        "\n",
        "\n",
        "\n"
      ]
    },
    {
      "cell_type": "code",
      "metadata": {
        "colab": {
          "base_uri": "https://localhost:8080/",
          "height": 617
        },
        "id": "npeA1yCzsDE3",
        "outputId": "2c5a533a-b258-4e2d-e2e4-da48f79a11cc"
      },
      "source": [
        "plt.figure(figsize=(15,8))\n",
        "ticks = m_types.Type.values\n",
        "ax = sns.barplot(x=\"Type\", y=\"Count\", data=m_types)\n",
        "ax.set_xticklabels(ticks, rotation=60, fontsize=14)\n",
        "ax.set_title(\"Match types\")\n",
        "plt.show()"
      ],
      "execution_count": 91,
      "outputs": [
        {
          "output_type": "display_data",
          "data": {
            "image/png": "[encoded data removed]",
            "text/plain": [
              "<Figure size 1080x576 with 1 Axes>"
            ]
          },
          "metadata": {
            "tags": [],
            "needs_background": "light"
          }
        }
      ]
    },
    {
      "cell_type": "markdown",
      "metadata": {
        "id": "zEIQk6BNsUHI"
      },
      "source": [
        " **Kill** **and** **damage** **dealts**\n"
      ]
    },
    {
      "cell_type": "code",
      "metadata": {
        "colab": {
          "base_uri": "https://localhost:8080/",
          "height": 513
        },
        "id": "i-wC5_S2sd3k",
        "outputId": "db947664-3640-4ddc-e32f-456441cd55d0"
      },
      "source": [
        "plt.figure(figsize=(15,8))\n",
        "ax1 = sns.boxplot(x=\"kills\",y=\"damageDealt\", data = data)\n",
        "ax1.set_title(\"Damage Dealt vs. Number of Kills\")\n",
        "plt.show()"
      ],
      "execution_count": 92,
      "outputs": [
        {
          "output_type": "display_data",
          "data": {
            "image/png": "[encoded data removed]",
            "text/plain": [
              "<Figure size 1080x576 with 1 Axes>"
            ]
          },
          "metadata": {
            "tags": [],
            "needs_background": "light"
          }
        }
      ]
    },
    {
      "cell_type": "markdown",
      "metadata": {
        "id": "361dIpMmvr4d"
      },
      "source": [
        "There is an obvious correlation between number of kills and damage dealt. We see also that there are some outliers, more in the lower range. As the number of kills increases number of outliers reduces - these players rather kill than wound enemies. The maximum kills is 72 which is much bigger than the wast majority of players scores."
      ]
    },
    {
      "cell_type": "markdown",
      "metadata": {
        "id": "6FNUBWyOvyHs"
      },
      "source": [
        "**Hypothesis** **Testing**\n",
        "\n",
        "\n",
        "A statistical hypothesis is an assumption about a population which may or may not be true. Hypothesis testing is a set of formal procedures used by statisticians to either accept or reject statistical hypotheses. Statistical hypotheses are of two types:\n",
        "\n",
        "Null hypothesis, H0 - represents a hypothesis of chance basis.\n",
        "\n",
        "Alternative hypothesis, H1 - represents a hypothesis of observations which are influenced by some non-random cause."
      ]
    },
    {
      "cell_type": "markdown",
      "metadata": {
        "id": "MT90-sgYxnVf"
      },
      "source": [
        ""
      ]
    },
    {
      "cell_type": "markdown",
      "metadata": {
        "id": "8auM1Gzxxnaq"
      },
      "source": [
        "Step - 1:\n",
        "Alternate Hypothesis (Bold claim): $ H_1 \\ \\Rightarrow \\ &gt;, \\ &lt;, \\ \\neq  $\n",
        "Null Hypothesis (Status Quo): $ H_0 \\ \\Rightarrow \\ \\leq, \\ \\geq, \\ = $\n",
        "\n",
        "Step - 2:\n",
        "\n",
        "Collect a sample of size n\n",
        "Compute the mean from this sample $ \\bar{x} $\n",
        "Step - 3: Compute Test Statistic:\n",
        "\n",
        "If population variance is known$$ z = \\frac{\\bar{x} - \\mu}{\\sigma/\\sqrt[2]{n}}$$\n",
        "\n",
        "If population variance is unknown$$ t = \\frac{\\bar{x} - \\mu}{s/\\sqrt[2]{n}} $$\n",
        "\n",
        "Step - 4: Decide significance level $ \\alpha $. Lower $ \\alpha $ means you need stronger evidence to reject Null Hypothesis.\n",
        "\n",
        "Step - 5.1: Apply decision rule:\n",
        "\n",
        "If test statistic is z-score -\n",
        "\n",
        "Two tailed z-test:$$ |z| &gt; z_\\frac{\\alpha}{2} \\Rightarrow Accept \\ H_1 \\ or \\ Reject \\ H_0$$\n",
        "Right tailed z-test:$$ z &gt; z_\\alpha \\Rightarrow Accept \\ H_1 \\ or \\ Reject \\ H_0 $$\n",
        "Left tailed z-test:$$ z &lt; -z_\\alpha \\Rightarrow Accept \\ H_1 \\ or \\ Reject \\ H_0 $$\n",
        "If test statistic is t-score\n",
        "\n",
        "Two tailed t-test:$$ |t| &gt; t_{n-1,\\frac{\\alpha}{2}} \\Rightarrow Accept \\ H_1 \\ or \\ Reject \\ H_0 $$\n",
        "Right tailed t-test:$$ t &gt; t_{n-1,\\alpha} \\Rightarrow Accept \\ H_1 \\ or \\ Reject \\ H_0 $$\n",
        "Left tailed t-test:$$ t &lt; t_{n-1,\\alpha} \\Rightarrow Accept \\ H_1 \\ or \\ Reject \\ H_0 $$\n",
        "Step - 5.2: Compute p-value $ P(Test \\ Statistics | H_0) $\n",
        "\n",
        "For two tailed test:$$ p \\ value = 2 * (1.0 - cdf(test \\ statistic)) $$\n",
        "For one tailed test:$$ p \\ value = (1.0 - cdf(test \\ statistic)) $$Now,$$ if (p \\ value &lt; \\alpha) \\Rightarrow Accept \\ H_1 \\ or \\ Reject \\ H_0 $$"
      ]
    },
    {
      "cell_type": "markdown",
      "metadata": {
        "id": "fjRWgWS5x6ek"
      },
      "source": [
        "**Question**\n",
        "\n",
        "In the population, the average IQ is 100 with a standard deviation of 15. A team of scientists want to test a new medication to see if it has either a positive or negative effect on intelligence, or not effect at all. A sample of 30 participants who have taken the medication  has a mean of 140. Did the medication affect intelligence?"
      ]
    },
    {
      "cell_type": "markdown",
      "metadata": {
        "id": "KavuNJQLy6Cv"
      },
      "source": [
        "Step 1: Set up the null and alternate hypothesis\n",
        "\n",
        "H0: medication affects intelligence\n",
        "H1: medication does not affect intellignece\n",
        "\n",
        "Step 2:\n",
        "\n",
        " Determine the type of test to use\n",
        "Since the sample size  is 30, we use the z-test. See why we use the z-test when sample size is 30 and above in Parametric Tests in Statistics, When to use which\n",
        "\n",
        "Step 3:\n",
        "\n",
        " Calculate the tested statistic z using the formula\n",
        "\n",
        " z=x¯−μσ/n−−√2\n",
        "\n",
        "Using the data given in the equation we would have the following:\n",
        "\n",
        "μ0 = 100\n",
        "\n",
        "σ = 15\n",
        "\n",
        "n = 30\n",
        "\n",
        "x̄n = 140 \n",
        "\n",
        "Plugging the values into the formular we have:\n",
        "\n",
        "\n"
      ]
    },
    {
      "cell_type": "markdown",
      "metadata": {
        "id": "ikw9pMKD0yu0"
      },
      "source": [
        "![zscore.jpg](data:image/jpeg;base64,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)"
      ]
    },
    {
      "cell_type": "markdown",
      "metadata": {
        "id": "pat7PxC809sU"
      },
      "source": [
        "Step 4:  \n",
        "Look up the values of z ( called the critical value) from statistical tables. \n",
        "\n",
        "You can access statistical table from here. Statistical Table\n",
        "From the table: we get a value of 1.96\n",
        "\n",
        "Step 5: Draw a conclusion\n",
        "\n",
        "In this case the tested statistic value of z calculated is more than the critical value obtained from statistical tables.\n",
        "14.606 > 1.96"
      ]
    },
    {
      "cell_type": "markdown",
      "metadata": {
        "id": "KULI6kI5gn3P"
      },
      "source": [
        ""
      ]
    },
    {
      "cell_type": "code",
      "metadata": {
        "id": "RKQtxd-eKboR"
      },
      "source": [
        ""
      ],
      "execution_count": null,
      "outputs": []
    }
  ]
}